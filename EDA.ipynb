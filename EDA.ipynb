{
 "cells": [
  {
   "cell_type": "markdown",
   "metadata": {},
   "source": [
    "# Exploration Data Analisys for World Bank datasets"
   ]
  },
  {
   "cell_type": "markdown",
   "metadata": {},
   "source": [
    "В ходе данного занятия мы подготовить EDA для датасета **World Bank** и подготовим все необходимое для реализации ETL.\n",
    "\n",
    "**Данные:**\n",
    "\n",
    "[World Bank Indicator Data](https://data.worldbank.org/indicator) - Данные социально-экономических индикаторов для стран по всему миру. Как пример индикаторов можно привести популяцию (население).\n",
    "\n",
    "[World Bank Project Data](https://datacatalog.worldbank.org/dataset/world-bank-projects-operations) - Данные проектов различных стран начиная с 1947 года.\n",
    "\n",
    "#### В ходе данного занятия мы пройдем следующие этапы:\n",
    "**Извлечение данных из разных источников:**\n",
    "- csv\n",
    "- json\n",
    "- Базы данных\n",
    "\n",
    "**Преобразование данных**\n",
    "- Обхединения данных из различных источников\n",
    "- Отчистка данных\n",
    "- Парсинг дат\n",
    "- Заполнение пропусков\n",
    "- Работа с дубликатами\n",
    "- Удаление незначимых переменных\n",
    "- Выбросы в данных\n",
    "\n",
    "**Формирование выходной таблицы**\n",
    "- Построим таблицу, которую можно использовать для обучения моделей\n",
    "\n",
    "**Цель ноутбука**\n",
    "- Подготовить несколько гипотез для этапа преобразования данных\n",
    "- Подготовить скрипты для реализации ETL-пайплайна"
   ]
  },
  {
   "cell_type": "markdown",
   "metadata": {},
   "source": [
    "## Imports"
   ]
  },
  {
   "cell_type": "code",
   "execution_count": 3,
   "metadata": {},
   "outputs": [],
   "source": [
    "%load_ext autoreload\n",
    "%autoreload 2"
   ]
  },
  {
   "cell_type": "code",
   "execution_count": 5,
   "metadata": {},
   "outputs": [],
   "source": [
    "### pip install -r requirements.txt"
   ]
  },
  {
   "cell_type": "code",
   "execution_count": 1,
   "metadata": {},
   "outputs": [],
   "source": [
    "#pip install bs4"
   ]
  },
  {
   "cell_type": "code",
   "execution_count": 2,
   "metadata": {},
   "outputs": [],
   "source": [
    "import os\n",
    "import sys\n",
    "import json\n",
    "from encodings.aliases import aliases\n",
    "from collections import defaultdict\n",
    "\n",
    "sys.path.append('../')\n",
    "\n",
    "import sqlite3\n",
    "from sklearn.linear_model import LinearRegression\n",
    "import chardet\n",
    "import numpy as np\n",
    "import pandas as pd\n",
    "from pycountry import countries\n",
    "import requests\n",
    "import pandas as pd\n",
    "from sqlalchemy import create_engine\n",
    "from bs4 import BeautifulSoup\n",
    "import matplotlib.pyplot as plt\n",
    "%matplotlib inline"
   ]
  },
  {
   "cell_type": "markdown",
   "metadata": {},
   "source": [
    "## Посмотрим на данные\n",
    "\n",
    "В данном разделе мы откроем все файлы и посмотрим на их содержимое"
   ]
  },
  {
   "cell_type": "code",
   "execution_count": 3,
   "metadata": {},
   "outputs": [
    {
     "name": "stdout",
     "output_type": "stream",
     "text": [
      "data/preprocess_data/non_countries.json\n",
      "data/preprocess_data/result_not_end.csv\n",
      "data/preprocess_data/population_data_2001_2017.csv\n",
      "data/preprocess_data/projects_data_Country_Date_repair.csv\n",
      "data/preprocess_data/population_data.db\n",
      "data/preprocess_data/projects_data.csv\n",
      "data/preprocess_data/country_not_found_mapping.json\n",
      "data/preprocess_data/population_data_1960_1980.json\n"
     ]
    }
   ],
   "source": [
    "for dirname, _, filenames in os.walk('data'):\n",
    "    for filename in filenames:\n",
    "        print(os.path.join(dirname, filename))"
   ]
  },
  {
   "cell_type": "markdown",
   "metadata": {},
   "source": [
    "### Рассмотри файл `projects_data.csv`"
   ]
  },
  {
   "cell_type": "code",
   "execution_count": 4,
   "metadata": {},
   "outputs": [
    {
     "name": "stdout",
     "output_type": "stream",
     "text": [
      "(18248, 24)\n"
     ]
    },
    {
     "data": {
      "text/html": [
       "<div>\n",
       "<style scoped>\n",
       "    .dataframe tbody tr th:only-of-type {\n",
       "        vertical-align: middle;\n",
       "    }\n",
       "\n",
       "    .dataframe tbody tr th {\n",
       "        vertical-align: top;\n",
       "    }\n",
       "\n",
       "    .dataframe thead th {\n",
       "        text-align: right;\n",
       "    }\n",
       "</style>\n",
       "<table border=\"1\" class=\"dataframe\">\n",
       "  <thead>\n",
       "    <tr style=\"text-align: right;\">\n",
       "      <th></th>\n",
       "      <th>id</th>\n",
       "      <th>regionname</th>\n",
       "      <th>countryname</th>\n",
       "      <th>prodline</th>\n",
       "      <th>lendinginstr</th>\n",
       "      <th>lendinginstrtype</th>\n",
       "      <th>supplementprojectflg</th>\n",
       "      <th>productlinetype</th>\n",
       "      <th>projectstatusdisplay</th>\n",
       "      <th>status</th>\n",
       "      <th>...</th>\n",
       "      <th>lendprojectcost</th>\n",
       "      <th>ibrdcommamt</th>\n",
       "      <th>idacommamt</th>\n",
       "      <th>totalamt</th>\n",
       "      <th>grantamt</th>\n",
       "      <th>url</th>\n",
       "      <th>sector1</th>\n",
       "      <th>sector</th>\n",
       "      <th>mjsector</th>\n",
       "      <th>theme1</th>\n",
       "    </tr>\n",
       "  </thead>\n",
       "  <tbody>\n",
       "    <tr>\n",
       "      <th>0</th>\n",
       "      <td>P162228</td>\n",
       "      <td>Other</td>\n",
       "      <td>World;World</td>\n",
       "      <td>RE</td>\n",
       "      <td>Investment Project Financing</td>\n",
       "      <td>IN</td>\n",
       "      <td>N</td>\n",
       "      <td>L</td>\n",
       "      <td>Active</td>\n",
       "      <td>Active</td>\n",
       "      <td>...</td>\n",
       "      <td>500,000</td>\n",
       "      <td>0</td>\n",
       "      <td>0</td>\n",
       "      <td>0</td>\n",
       "      <td>500,000</td>\n",
       "      <td>http://projects.worldbank.org/P162228?lang=en</td>\n",
       "      <td>!$!0</td>\n",
       "      <td>NaN</td>\n",
       "      <td>NaN</td>\n",
       "      <td>!$!0</td>\n",
       "    </tr>\n",
       "    <tr>\n",
       "      <th>1</th>\n",
       "      <td>P163962</td>\n",
       "      <td>Africa</td>\n",
       "      <td>Democratic Republic of the Congo;Democratic Re...</td>\n",
       "      <td>PE</td>\n",
       "      <td>Investment Project Financing</td>\n",
       "      <td>IN</td>\n",
       "      <td>N</td>\n",
       "      <td>L</td>\n",
       "      <td>Active</td>\n",
       "      <td>Active</td>\n",
       "      <td>...</td>\n",
       "      <td>200,000,000</td>\n",
       "      <td>0</td>\n",
       "      <td>200,000,000</td>\n",
       "      <td>200,000,000</td>\n",
       "      <td>0</td>\n",
       "      <td>http://projects.worldbank.org/P163962?lang=en</td>\n",
       "      <td>!$!0</td>\n",
       "      <td>NaN</td>\n",
       "      <td>NaN</td>\n",
       "      <td>!$!0</td>\n",
       "    </tr>\n",
       "    <tr>\n",
       "      <th>2</th>\n",
       "      <td>P167672</td>\n",
       "      <td>South Asia</td>\n",
       "      <td>People's Republic of Bangladesh;People's Repub...</td>\n",
       "      <td>PE</td>\n",
       "      <td>Investment Project Financing</td>\n",
       "      <td>IN</td>\n",
       "      <td>Y</td>\n",
       "      <td>L</td>\n",
       "      <td>Active</td>\n",
       "      <td>Active</td>\n",
       "      <td>...</td>\n",
       "      <td>50,000,000</td>\n",
       "      <td>0</td>\n",
       "      <td>58,330,000</td>\n",
       "      <td>58,330,000</td>\n",
       "      <td>0</td>\n",
       "      <td>http://projects.worldbank.org/P167672?lang=en</td>\n",
       "      <td>!$!0</td>\n",
       "      <td>NaN</td>\n",
       "      <td>NaN</td>\n",
       "      <td>!$!0</td>\n",
       "    </tr>\n",
       "    <tr>\n",
       "      <th>3</th>\n",
       "      <td>P158768</td>\n",
       "      <td>South Asia</td>\n",
       "      <td>Islamic  Republic of Afghanistan;Islamic  Repu...</td>\n",
       "      <td>PE</td>\n",
       "      <td>Investment Project Financing</td>\n",
       "      <td>IN</td>\n",
       "      <td>N</td>\n",
       "      <td>L</td>\n",
       "      <td>Active</td>\n",
       "      <td>Active</td>\n",
       "      <td>...</td>\n",
       "      <td>50,000,000</td>\n",
       "      <td>0</td>\n",
       "      <td>20,000,000</td>\n",
       "      <td>20,000,000</td>\n",
       "      <td>0</td>\n",
       "      <td>http://projects.worldbank.org/P158768?lang=en</td>\n",
       "      <td>!$!0</td>\n",
       "      <td>NaN</td>\n",
       "      <td>NaN</td>\n",
       "      <td>!$!0</td>\n",
       "    </tr>\n",
       "    <tr>\n",
       "      <th>4</th>\n",
       "      <td>P161364</td>\n",
       "      <td>Africa</td>\n",
       "      <td>Federal Republic of Nigeria;Federal Republic o...</td>\n",
       "      <td>PE</td>\n",
       "      <td>Investment Project Financing</td>\n",
       "      <td>IN</td>\n",
       "      <td>N</td>\n",
       "      <td>L</td>\n",
       "      <td>Active</td>\n",
       "      <td>Active</td>\n",
       "      <td>...</td>\n",
       "      <td>100,000,000</td>\n",
       "      <td>0</td>\n",
       "      <td>100,000,000</td>\n",
       "      <td>100,000,000</td>\n",
       "      <td>0</td>\n",
       "      <td>http://projects.worldbank.org/P161364?lang=en</td>\n",
       "      <td>Social Protection!$!63!$!SA</td>\n",
       "      <td>Social Protection;Social Protection;Other Indu...</td>\n",
       "      <td>Social Protection;Social Protection;Industry; ...</td>\n",
       "      <td>!$!0</td>\n",
       "    </tr>\n",
       "  </tbody>\n",
       "</table>\n",
       "<p>5 rows × 24 columns</p>\n",
       "</div>"
      ],
      "text/plain": [
       "        id  regionname                                        countryname  \\\n",
       "0  P162228       Other                                        World;World   \n",
       "1  P163962      Africa  Democratic Republic of the Congo;Democratic Re...   \n",
       "2  P167672  South Asia  People's Republic of Bangladesh;People's Repub...   \n",
       "3  P158768  South Asia  Islamic  Republic of Afghanistan;Islamic  Repu...   \n",
       "4  P161364      Africa  Federal Republic of Nigeria;Federal Republic o...   \n",
       "\n",
       "  prodline                  lendinginstr lendinginstrtype  \\\n",
       "0       RE  Investment Project Financing               IN   \n",
       "1       PE  Investment Project Financing               IN   \n",
       "2       PE  Investment Project Financing               IN   \n",
       "3       PE  Investment Project Financing               IN   \n",
       "4       PE  Investment Project Financing               IN   \n",
       "\n",
       "  supplementprojectflg productlinetype projectstatusdisplay  status  ...  \\\n",
       "0                    N               L               Active  Active  ...   \n",
       "1                    N               L               Active  Active  ...   \n",
       "2                    Y               L               Active  Active  ...   \n",
       "3                    N               L               Active  Active  ...   \n",
       "4                    N               L               Active  Active  ...   \n",
       "\n",
       "  lendprojectcost ibrdcommamt   idacommamt     totalamt grantamt  \\\n",
       "0         500,000           0            0            0  500,000   \n",
       "1     200,000,000           0  200,000,000  200,000,000        0   \n",
       "2      50,000,000           0   58,330,000   58,330,000        0   \n",
       "3      50,000,000           0   20,000,000   20,000,000        0   \n",
       "4     100,000,000           0  100,000,000  100,000,000        0   \n",
       "\n",
       "                                             url                      sector1  \\\n",
       "0  http://projects.worldbank.org/P162228?lang=en                         !$!0   \n",
       "1  http://projects.worldbank.org/P163962?lang=en                         !$!0   \n",
       "2  http://projects.worldbank.org/P167672?lang=en                         !$!0   \n",
       "3  http://projects.worldbank.org/P158768?lang=en                         !$!0   \n",
       "4  http://projects.worldbank.org/P161364?lang=en  Social Protection!$!63!$!SA   \n",
       "\n",
       "                                              sector  \\\n",
       "0                                                NaN   \n",
       "1                                                NaN   \n",
       "2                                                NaN   \n",
       "3                                                NaN   \n",
       "4  Social Protection;Social Protection;Other Indu...   \n",
       "\n",
       "                                            mjsector theme1  \n",
       "0                                                NaN   !$!0  \n",
       "1                                                NaN   !$!0  \n",
       "2                                                NaN   !$!0  \n",
       "3                                                NaN   !$!0  \n",
       "4  Social Protection;Social Protection;Industry; ...   !$!0  \n",
       "\n",
       "[5 rows x 24 columns]"
      ]
     },
     "execution_count": 4,
     "metadata": {},
     "output_type": "execute_result"
    }
   ],
   "source": [
    "df_projects = pd.read_csv('data/preprocess_data/projects_data.csv', dtype='str')\n",
    "print(df_projects.shape)\n",
    "df_projects.head()"
   ]
  },
  {
   "cell_type": "code",
   "execution_count": 5,
   "metadata": {},
   "outputs": [
    {
     "data": {
      "text/plain": [
       "id                         0\n",
       "regionname                 0\n",
       "countryname                0\n",
       "prodline                   0\n",
       "lendinginstr             246\n",
       "lendinginstrtype         246\n",
       "supplementprojectflg      53\n",
       "productlinetype            0\n",
       "projectstatusdisplay       4\n",
       "status                     4\n",
       "project_name               0\n",
       "boardapprovaldate       1504\n",
       "board_approval_month    1504\n",
       "closingdate             3349\n",
       "lendprojectcost          125\n",
       "ibrdcommamt                0\n",
       "idacommamt                 0\n",
       "totalamt                   0\n",
       "grantamt                   0\n",
       "url                        0\n",
       "sector1                    0\n",
       "sector                   638\n",
       "mjsector                 638\n",
       "theme1                     0\n",
       "dtype: int64"
      ]
     },
     "execution_count": 5,
     "metadata": {},
     "output_type": "execute_result"
    }
   ],
   "source": [
    "# Считаем количество значений `null` в датафрейме\n",
    "df_projects.isnull().sum()"
   ]
  },
  {
   "cell_type": "markdown",
   "metadata": {},
   "source": [
    "Очевидно, что есть большое количество пропущенных значений. Так например можно заметить, что в поле `countryname` значений не пропущено, а аналогичное поле `country` имеет 14045 пропущенных значений."
   ]
  },
  {
   "cell_type": "code",
   "execution_count": 6,
   "metadata": {},
   "outputs": [],
   "source": [
    "columns = df_projects.columns\n",
    "for column in columns:\n",
    "    if df_projects.isnull().sum()[column] / df_projects.shape[0] > 0.2:\n",
    "        df_projects.drop(column, axis=1, inplace=True)"
   ]
  },
  {
   "cell_type": "code",
   "execution_count": 7,
   "metadata": {},
   "outputs": [
    {
     "data": {
      "text/plain": [
       "id                         0\n",
       "regionname                 0\n",
       "countryname                0\n",
       "prodline                   0\n",
       "lendinginstr             246\n",
       "lendinginstrtype         246\n",
       "supplementprojectflg      53\n",
       "productlinetype            0\n",
       "projectstatusdisplay       4\n",
       "status                     4\n",
       "project_name               0\n",
       "boardapprovaldate       1504\n",
       "board_approval_month    1504\n",
       "closingdate             3349\n",
       "lendprojectcost          125\n",
       "ibrdcommamt                0\n",
       "idacommamt                 0\n",
       "totalamt                   0\n",
       "grantamt                   0\n",
       "url                        0\n",
       "sector1                    0\n",
       "sector                   638\n",
       "mjsector                 638\n",
       "theme1                     0\n",
       "dtype: int64"
      ]
     },
     "execution_count": 7,
     "metadata": {},
     "output_type": "execute_result"
    }
   ],
   "source": [
    "df_projects.isnull().sum()"
   ]
  },
  {
   "cell_type": "markdown",
   "metadata": {},
   "source": [
    "Сохраним данный файл"
   ]
  },
  {
   "cell_type": "code",
   "execution_count": 8,
   "metadata": {},
   "outputs": [],
   "source": [
    "df_projects.to_csv('data/preprocess_data/projects_data.csv', index=False)"
   ]
  },
  {
   "cell_type": "markdown",
   "metadata": {},
   "source": [
    "### Рассмотрим файл `df_population.csv`"
   ]
  },
  {
   "cell_type": "code",
   "execution_count": null,
   "metadata": {},
   "outputs": [],
   "source": [
    "df_population = pd.read_csv('data/clear_data/population_data.csv', dtype=str)\n",
    "print(df_population.shape)\n",
    "df_population.head()"
   ]
  },
  {
   "cell_type": "code",
   "execution_count": null,
   "metadata": {},
   "outputs": [],
   "source": [
    "df_population = df_population.drop('Unnamed: 62', axis=1)"
   ]
  },
  {
   "cell_type": "code",
   "execution_count": null,
   "metadata": {},
   "outputs": [],
   "source": [
    "df_population.columns"
   ]
  },
  {
   "cell_type": "code",
   "execution_count": null,
   "metadata": {},
   "outputs": [],
   "source": [
    "columns_1 = [\n",
    "    'Country Name', 'Country Code', 'Indicator Name', 'Indicator Code',\n",
    "    '1960', '1961', '1962', '1963', '1964', '1965', '1966', '1967', '1968',\n",
    "    '1969', '1970', '1971', '1972', '1973', '1974', '1975', '1976', '1977',\n",
    "    '1978', '1979', '1980'\n",
    "]\n",
    "columns_2  =  [\n",
    "    'Country Name', 'Country Code', 'Indicator Name', 'Indicator Code',\n",
    "    '1981', '1982', '1983', '1984', '1985', '1986',\n",
    "    '1987', '1988', '1989', '1990', '1991', '1992', '1993', '1994', '1995',\n",
    "    '1996', '1997', '1998', '1999', '2000'\n",
    "]\n",
    "columns_3   = [\n",
    "    'Country Name', 'Country Code', 'Indicator Name', 'Indicator Code',\n",
    "    '2001', '2002', '2003', '2004',\n",
    "    '2005', '2006', '2007', '2008', '2009', '2010', '2011', '2012', '2013',\n",
    "    '2014', '2015', '2016', '2017'\n",
    "]"
   ]
  },
  {
   "cell_type": "code",
   "execution_count": null,
   "metadata": {},
   "outputs": [],
   "source": [
    "df_population[columns_1].to_json('data/preprocess_data/population_data_1960_1980.json', orient='records')"
   ]
  },
  {
   "cell_type": "code",
   "execution_count": null,
   "metadata": {},
   "outputs": [],
   "source": [
    "engine_sqlite3 = create_engine('sqlite:///data/preprocess_data/population_data.db')\n",
    "engine_sqlite3.raw_connection()\n",
    "df_population[columns_2].to_sql('population_data_1981_2000', engine_sqlite3, if_exists='replace', index=False)"
   ]
  },
  {
   "cell_type": "code",
   "execution_count": null,
   "metadata": {},
   "outputs": [],
   "source": [
    "engine_sqlite3.table_names()"
   ]
  },
  {
   "cell_type": "code",
   "execution_count": null,
   "metadata": {},
   "outputs": [],
   "source": [
    "df_population[columns_3].to_csv('data/preprocess_data/population_data_2001_2017.csv', index=False)"
   ]
  },
  {
   "cell_type": "code",
   "execution_count": null,
   "metadata": {},
   "outputs": [],
   "source": [
    "df_indicator = pd.read_csv('data/clear_data/population_data.csv')\n",
    "df_indicator.drop(['Unnamed: 62'], axis=1, inplace=True)\n",
    "\n",
    "df_projects = pd.read_csv('data/preprocess_data/projects_data.csv', dtype=str)"
   ]
  },
  {
   "cell_type": "code",
   "execution_count": null,
   "metadata": {},
   "outputs": [],
   "source": [
    "print(df_projects.shape)\n",
    "df_projects.head()"
   ]
  },
  {
   "cell_type": "code",
   "execution_count": null,
   "metadata": {},
   "outputs": [],
   "source": [
    "df_indicator[['Country Name', 'Country Code']].drop_duplicates()"
   ]
  },
  {
   "cell_type": "markdown",
   "metadata": {},
   "source": [
    "## Работа с полем `Country`\n",
    "Стоит обратить внимание, что в файле `df_projects`, в столбце 'Country' значения не заполнены. \n",
    "\n",
    "Постановка проблемы:\n",
    "- Файл `df_projects` содержит абревиатуры стран, в то время как файл `df_indicator` содержит названия и абревиатуры.\n",
    "\n",
    "Намного проще объединять файлы с уникальными идентификарами. Поэтому приведем данные к одному виду."
   ]
  },
  {
   "cell_type": "code",
   "execution_count": null,
   "metadata": {},
   "outputs": [],
   "source": [
    "df_projects['countryname'].unique()"
   ]
  },
  {
   "cell_type": "code",
   "execution_count": null,
   "metadata": {},
   "outputs": [],
   "source": [
    "df_projects['Official Country Name'] = df_projects['countryname'].str.split(';').str.get(0)"
   ]
  },
  {
   "cell_type": "code",
   "execution_count": null,
   "metadata": {},
   "outputs": [],
   "source": [
    "country_not_found = [] \n",
    "project_country_abbrev_dict = defaultdict(str) \n",
    "\n",
    "# Итерируемся по всем возможным названиям стран\n",
    "for country in df_projects['Official Country Name'].drop_duplicates().sort_values():\n",
    "    try: \n",
    "        # Сопоставляем значениям ключа - уникальный код ISO\n",
    "        project_country_abbrev_dict[country] = countries.lookup(country).alpha_3\n",
    "    except:\n",
    "        # Если такого кода нет, \n",
    "        print(country, 'country_not_found')\n",
    "        country_not_found.append(country)"
   ]
  },
  {
   "cell_type": "code",
   "execution_count": null,
   "metadata": {},
   "outputs": [],
   "source": [
    "# Проверим есть ли название в файле df_projects\n",
    "indicator_countries = df_indicator[['Country Name', 'Country Code']].drop_duplicates().sort_values(by='Country Name')\n",
    "\n",
    "for country in country_not_found:\n",
    "    if country in indicator_countries['Country Name'].tolist():\n",
    "        print(country)"
   ]
  },
  {
   "cell_type": "code",
   "execution_count": null,
   "metadata": {},
   "outputs": [],
   "source": [
    "country_not_found_mapping = {\n",
    "    'Co-operative Republic of Guyana': 'GUY',\n",
    "    'Commonwealth of Australia':'AUS',\n",
    "    'Democratic Republic of Sao Tome and Prin':'STP',\n",
    "    'Democratic Republic of the Congo':'COD',\n",
    "    'Democratic Socialist Republic of Sri Lan':'LKA',\n",
    "    'East Asia and Pacific':'EAS',\n",
    "    'Europe and Central Asia': 'ECS',\n",
    "    'Islamic  Republic of Afghanistan':'AFG',\n",
    "    'Latin America':'LCN',\n",
    "    'Caribbean':'LCN',\n",
    "    'Macedonia':'MKD',\n",
    "    'Middle East and North Africa':'MEA',\n",
    "    'Oriental Republic of Uruguay':'URY',\n",
    "    'Republic of Congo':'COG',\n",
    "    \"Republic of Cote d'Ivoire\":'CIV',\n",
    "    'Republic of Korea':'KOR',\n",
    "    'Republic of Niger':'NER',\n",
    "    'Republic of Kosovo':'XKX',\n",
    "    'Republic of Rwanda':'RWA',\n",
    "    'Republic of The Gambia':'GMB',\n",
    "    'Republic of Togo':'TGO',\n",
    "    'Republic of the Union of Myanmar':'MMR',\n",
    "    'Republica Bolivariana de Venezuela':'VEN',\n",
    "    'Sint Maarten':'SXM',\n",
    "    \"Socialist People's Libyan Arab Jamahiriy\":'LBY',\n",
    "    'Socialist Republic of Vietnam':'VNM',\n",
    "    'Somali Democratic Republic':'SOM',\n",
    "    'South Asia':'SAS',\n",
    "    'St. Kitts and Nevis':'KNA',\n",
    "    'St. Lucia':'LCA',\n",
    "    'St. Vincent and the Grenadines':'VCT',\n",
    "    'State of Eritrea':'ERI',\n",
    "    'The Independent State of Papua New Guine':'PNG',\n",
    "    'West Bank and Gaza':'PSE',\n",
    "    'World':'WLD',\n",
    "}"
   ]
  },
  {
   "cell_type": "code",
   "execution_count": null,
   "metadata": {},
   "outputs": [],
   "source": [
    "project_country_abbrev_dict.update(country_not_found_mapping)"
   ]
  },
  {
   "cell_type": "code",
   "execution_count": null,
   "metadata": {},
   "outputs": [],
   "source": [
    "df_projects['Country Code'] = df_projects['Official Country Name'].apply(lambda x: project_country_abbrev_dict[x])"
   ]
  },
  {
   "cell_type": "code",
   "execution_count": null,
   "metadata": {},
   "outputs": [],
   "source": [
    "df_projects = df_projects[df_projects['Country Code'] != '']"
   ]
  },
  {
   "cell_type": "markdown",
   "metadata": {},
   "source": [
    "## Обработка дат"
   ]
  },
  {
   "cell_type": "code",
   "execution_count": null,
   "metadata": {},
   "outputs": [],
   "source": [
    "df_projects.head(5)[['boardapprovaldate', 'board_approval_month', 'closingdate']]"
   ]
  },
  {
   "cell_type": "code",
   "execution_count": null,
   "metadata": {},
   "outputs": [],
   "source": [
    "df_projects['boardapprovaldate'] = pd.to_datetime(df_projects['boardapprovaldate'])\n",
    "df_projects['closingdate'] = pd.to_datetime(df_projects['closingdate'])"
   ]
  },
  {
   "cell_type": "code",
   "execution_count": null,
   "metadata": {},
   "outputs": [],
   "source": [
    "df_projects.fillna('', inplace=True)"
   ]
  },
  {
   "cell_type": "code",
   "execution_count": null,
   "metadata": {},
   "outputs": [],
   "source": [
    "df_projects['approvalyear'] = pd.to_numeric(df_projects['boardapprovaldate'].dt.year)\n",
    "df_projects['approvalday'] = pd.to_numeric(df_projects['boardapprovaldate'].dt.year)\n",
    "df_projects['approvalweekday'] = pd.to_numeric(df_projects['boardapprovaldate'].dt.year)\n",
    "df_projects['closingyear'] = pd.to_numeric(df_projects['closingdate'].dt.year)\n",
    "df_projects['closingday'] = pd.to_numeric(df_projects['closingdate'].dt.year)\n",
    "df_projects['closingweekday'] = pd.to_numeric(df_projects['closingdate'].dt.year)\n",
    "\n",
    "# df_projects.drop(columns=['boardapprovaldate',  'closingdate'], inplace=True)"
   ]
  },
  {
   "cell_type": "code",
   "execution_count": null,
   "metadata": {},
   "outputs": [],
   "source": [
    "df_projects"
   ]
  },
  {
   "cell_type": "code",
   "execution_count": null,
   "metadata": {},
   "outputs": [],
   "source": [
    "df_projects.to_csv('data/preprocess_data/projects_data_Country_Date_repair.csv', index=False)"
   ]
  },
  {
   "cell_type": "markdown",
   "metadata": {},
   "source": [
    "#### Почему некоторые поля `closingdate` могут быть пустыми?"
   ]
  },
  {
   "cell_type": "markdown",
   "metadata": {},
   "source": [
    "## Заполнение данных\n",
    "\n",
    "Прощенные значения"
   ]
  },
  {
   "cell_type": "code",
   "execution_count": null,
   "metadata": {},
   "outputs": [],
   "source": [
    "df_vvp = pd.read_csv('data/clear_data/gdp_data.csv')\n",
    "df_vvp.drop('Unnamed: 62', axis=1, inplace=True)"
   ]
  },
  {
   "cell_type": "code",
   "execution_count": null,
   "metadata": {},
   "outputs": [],
   "source": [
    "print(df_vvp.shape)\n",
    "df_vvp.head()"
   ]
  },
  {
   "cell_type": "code",
   "execution_count": null,
   "metadata": {},
   "outputs": [],
   "source": [
    "df_vvp.isnull().sum()"
   ]
  },
  {
   "cell_type": "code",
   "execution_count": null,
   "metadata": {},
   "outputs": [],
   "source": [
    "# put the data set into long form instead of wide\n",
    "df_vvp_melt = pd.melt(df, id_vars=['Country Name', 'Country Code', 'Indicator Name', 'Indicator Code'], var_name='year', value_name='GDP')\n",
    "\n",
    "def plot_results(column_name):\n",
    "    # plot the results for Afghanistan, Albania, and Honduras\n",
    "    fig, ax = plt.subplots(figsize=(8,6))\n",
    "\n",
    "    df_vvp_melt[(df_vvp_melt['Country Name'] == 'Brazil') | \n",
    "            (df_vvp_melt['Country Name'] == 'Russian Federation') | \n",
    "            (df_vvp_melt['Country Name'] == 'India')].groupby('Country Name').plot('year', column_name, legend=True, ax=ax)\n",
    "    ax.legend(labels=['Brazil', 'Russian Federation', 'India'])\n",
    "    \n",
    "plot_results('GDP')"
   ]
  },
  {
   "cell_type": "code",
   "execution_count": null,
   "metadata": {},
   "outputs": [],
   "source": [
    "df_vvp_melt['GDP_filled'] = df_vvp_melt.groupby('Country Name')['GDP'].transform(lambda x: x.fillna(x.mean()))"
   ]
  },
  {
   "cell_type": "code",
   "execution_count": null,
   "metadata": {},
   "outputs": [],
   "source": [
    "plot_results('GDP_filled')"
   ]
  },
  {
   "cell_type": "code",
   "execution_count": null,
   "metadata": {},
   "outputs": [],
   "source": [
    "df_vvp_melt['GDP_ff_bf'] = df_vvp_melt.sort_values('year').groupby('Country Name')['GDP'].fillna(method='ffill').fillna(method='bfill')"
   ]
  },
  {
   "cell_type": "code",
   "execution_count": null,
   "metadata": {},
   "outputs": [],
   "source": [
    "plot_results('GDP_ff_bf')"
   ]
  },
  {
   "cell_type": "code",
   "execution_count": null,
   "metadata": {},
   "outputs": [],
   "source": [
    "df_vvp_melt['GDP_ff_bf'].isnull().sum()"
   ]
  },
  {
   "cell_type": "code",
   "execution_count": null,
   "metadata": {},
   "outputs": [],
   "source": [
    "df_vvp_melt.head()"
   ]
  },
  {
   "cell_type": "markdown",
   "metadata": {},
   "source": [
    "## Переменные экономического сектора\n",
    "\n",
    "Рассмотрим поле `sector1` и узнаем как изменить его, чтобы данные были чистыми"
   ]
  },
  {
   "cell_type": "code",
   "execution_count": 9,
   "metadata": {},
   "outputs": [
    {
     "data": {
      "text/plain": [
       "array(['!$!0', '(Historic)Agency reform!$!50!$!AG',\n",
       "       '(Historic)Agricultural credit!$!100!$!AC', ...,\n",
       "       'Workforce Development and Vocational Education!$!96!$!EW',\n",
       "       'Workforce Development and Vocational Education!$!98!$!EW',\n",
       "       'Workforce Development and Vocational Education!$!99!$!EW'],\n",
       "      dtype=object)"
      ]
     },
     "execution_count": 9,
     "metadata": {},
     "output_type": "execute_result"
    }
   ],
   "source": [
    "# Create a list of the unique values in sector1. Use the sort_values() and unique() pandas methods. \n",
    "# And then convert those results into a Python list\n",
    "uniquesectors1 = df_projects['sector1'].sort_values().unique()\n",
    "uniquesectors1"
   ]
  },
  {
   "cell_type": "code",
   "execution_count": 10,
   "metadata": {},
   "outputs": [
    {
     "name": "stdout",
     "output_type": "stream",
     "text": [
      "Number of unique values in sector1: 3060\n"
     ]
    }
   ],
   "source": [
    "# run this code cell to see the number of unique values\n",
    "print('Number of unique values in sector1:', len(uniquesectors1))"
   ]
  },
  {
   "cell_type": "markdown",
   "metadata": {},
   "source": [
    "С этой переменной «сектор1» есть несколько проблем. Во-первых, есть значения с меткой '!$!0'. Их следует заменить на NaN.\n",
    "\n",
    "Более того, каждое значение сектора1 заканчивается строкой из десяти или одиннадцати символов, например '!$!49!$!EP'. Некоторые сектора отображаются в списке дважды, например:\n",
    " «Другая промышленность; Торговля и услуги!$!70!$!ЫЗ',\n",
    " «Другая промышленность; Торговля и услуги!$!63!$!YZ',\n",
    "\n",
    "Но похоже, что это на самом деле один и тот же сектор. Вам нужно будет удалить все, что находится за восклицательным знаком.\n",
    "\n",
    "Многие значения переменной сектор1 начинаются с термина «(Исторический)». Попробуйте удалить и эту фразу.\n",
    "\n",
    "### replace() method\n",
    "\n",
    "В pandas вы можете использовать метод replace() для поиска текста и замены частей строки другой строкой. Если вы знаете точную строку, которую ищете, метод replace() не вызывает затруднений. Например, предположим, что вы хотите удалить строку «(Пробная версия)» из этих данных:\n",
    "\n",
    "| data                     |\n",
    "|--------------------------|\n",
    "| '(Trial) Banking'        |\n",
    "| 'Banking'                |\n",
    "| 'Farming'                |\n",
    "| '(Trial) Transportation' |\n",
    "\n",
    "Вы можете использовать `df['data'].replace('(Trial'), '')` для замены (Trial) пустой строкой.\n"
   ]
  },
  {
   "cell_type": "code",
   "execution_count": null,
   "metadata": {},
   "outputs": [],
   "source": [
    "df_projects['sector1'] = df_projects['sector1'].replace('!$!0', np.nan)\n",
    "\n",
    "df_projects['sector1'] = df_projects['sector1'].replace('!.+', '', regex=True)\n",
    "\n",
    "df_projects['sector1'] = df_projects['sector1'].replace('^(\\(Historic\\))', '', regex=True)\n",
    "\n",
    "print('Number of unique sectors after cleaning:', len(list(df_projects['sector1'].unique())))\n",
    "print('Percentage of null values after cleaning:', 100 * df_projects['sector1'].isnull().sum() / df_projects['sector1'].shape[0])"
   ]
  },
  {
   "cell_type": "markdown",
   "metadata": {},
   "source": [
    "Сейчас существует 156 уникальных категориальных значений. Это лучше, чем 3060."
   ]
  },
  {
   "cell_type": "markdown",
   "metadata": {},
   "source": [
    "> ## Поиск выбросов\n",
    "\n",
    "Рассмотрим набор данных Всемирного банка по ВВП и населению. Сначала посмотрим на данные с одномерной точки зрения, а затем с двухмерной точки зрения."
   ]
  },
  {
   "cell_type": "code",
   "execution_count": null,
   "metadata": {},
   "outputs": [],
   "source": [
    "df_vvp.head()"
   ]
  },
  {
   "cell_type": "code",
   "execution_count": null,
   "metadata": {},
   "outputs": [],
   "source": [
    "# read in the projects data set and do basic wrangling \n",
    "gdp = pd.read_csv('data/clear_data/gdp_data.csv')\n",
    "gdp.drop(['Unnamed: 62', 'Country Code', 'Indicator Name', 'Indicator Code'], inplace=True, axis=1)\n",
    "population = pd.read_csv('data/clear_data/population_data.csv')\n",
    "population.drop(['Unnamed: 62', 'Country Code', 'Indicator Name', 'Indicator Code'], inplace=True, axis=1)\n",
    "\n",
    "\n",
    "# Reshape the data sets so that they are in long format\n",
    "gdp_melt = gdp.melt(id_vars=['Country Name'], \n",
    "                    var_name='year', \n",
    "                    value_name='gdp')\n",
    "\n",
    "# Use back fill and forward fill to fill in missing gdp values\n",
    "gdp_melt['gdp'] = gdp_melt.sort_values('year').groupby('Country Name')['gdp'].fillna(method='ffill').fillna(method='bfill')\n",
    "\n",
    "population_melt = population.melt(id_vars=['Country Name'], \n",
    "                                  var_name='year', \n",
    "                                  value_name='population')\n",
    "\n",
    "# Use back fill and forward fill to fill in missing population values\n",
    "population_melt['population'] = population_melt.sort_values('year').groupby('Country Name')['population'].fillna(method='ffill').fillna(method='bfill')\n",
    "\n",
    "# merge the population and gdp data together into one data frame\n",
    "df_country = gdp_melt.merge(population_melt, on=('Country Name', 'year'))\n",
    "\n",
    "# filter data for the year 2016\n",
    "df_2016 = df_country[df_country['year'] == '2016']\n",
    "\n",
    "# see what the data looks like\n",
    "df_2016.head(10)"
   ]
  },
  {
   "cell_type": "markdown",
   "metadata": {},
   "source": [
    "Explore the data set to identify outliers using the Tukey rule."
   ]
  },
  {
   "cell_type": "code",
   "execution_count": null,
   "metadata": {},
   "outputs": [],
   "source": [
    "import matplotlib.pyplot as plt\n",
    "%matplotlib inline \n",
    "\n",
    "# Построим boxplot для данных популяции за 2016 год\n",
    "df_2016.plot('population', kind='box')\n",
    "\n",
    "# Построим boxplot для данных ввп за 2016 год\n",
    "df_2016.plot('gdp', kind='box')"
   ]
  },
  {
   "cell_type": "code",
   "execution_count": null,
   "metadata": {},
   "outputs": [],
   "source": [
    "# Удалим строки из данных, которые имеют значения `CountryName` в списке non_countries\n",
    "# Сохраняем результаты фильтра обратно в переменную df_2016\n",
    "\n",
    "non_countries = ['World',\n",
    " 'High income',\n",
    " 'OECD members',\n",
    " 'Post-demographic dividend',\n",
    " 'IDA & IBRD total',\n",
    " 'Low & middle income',\n",
    " 'Middle income',\n",
    " 'IBRD only',\n",
    " 'East Asia & Pacific',\n",
    " 'Europe & Central Asia',\n",
    " 'North America',\n",
    " 'Upper middle income',\n",
    " 'Late-demographic dividend',\n",
    " 'European Union',\n",
    " 'East Asia & Pacific (excluding high income)',\n",
    " 'East Asia & Pacific (IDA & IBRD countries)',\n",
    " 'Euro area',\n",
    " 'Early-demographic dividend',\n",
    " 'Lower middle income',\n",
    " 'Latin America & Caribbean',\n",
    " 'Latin America & the Caribbean (IDA & IBRD countries)',\n",
    " 'Latin America & Caribbean (excluding high income)',\n",
    " 'Europe & Central Asia (IDA & IBRD countries)',\n",
    " 'Middle East & North Africa',\n",
    " 'Europe & Central Asia (excluding high income)',\n",
    " 'South Asia (IDA & IBRD)',\n",
    " 'South Asia',\n",
    " 'Arab World',\n",
    " 'IDA total',\n",
    " 'Sub-Saharan Africa',\n",
    " 'Sub-Saharan Africa (IDA & IBRD countries)',\n",
    " 'Sub-Saharan Africa (excluding high income)',\n",
    " 'Middle East & North Africa (excluding high income)',\n",
    " 'Middle East & North Africa (IDA & IBRD countries)',\n",
    " 'Central Europe and the Baltics',\n",
    " 'Pre-demographic dividend',\n",
    " 'IDA only',\n",
    " 'Least developed countries: UN classification',\n",
    " 'IDA blend',\n",
    " 'Fragile and conflict affected situations',\n",
    " 'Heavily indebted poor countries (HIPC)',\n",
    " 'Low income',\n",
    " 'Small states',\n",
    " 'Other small states',\n",
    " 'Not classified',\n",
    " 'Caribbean small states',\n",
    " 'Pacific island small states']\n",
    "\n",
    "df_2016 = df_2016[~df_2016['Country Name'].isin(non_countries)]"
   ]
  },
  {
   "cell_type": "markdown",
   "metadata": {},
   "source": [
    ">### 2-мерный анализ\n",
    "\n",
    "Затем посмотрите на данные с двухмерной точки зрения.\n",
    "\n",
    "В следующей ячейке кода представлены данные о ВВП и населении, включая название страны в каждой точке."
   ]
  },
  {
   "cell_type": "code",
   "execution_count": null,
   "metadata": {},
   "outputs": [],
   "source": [
    "x = list(df_2016['population'])\n",
    "y = list(df_2016['gdp'])\n",
    "text = df_2016['Country Name']\n",
    "\n",
    "fig, ax = plt.subplots(figsize=(15,10))\n",
    "ax.scatter(x, y)\n",
    "plt.title('GDP vs Population')\n",
    "plt.xlabel('population')\n",
    "plt.ylabel('GDP')\n",
    "for i, txt in enumerate(text):\n",
    "    ax.annotate(txt, (x[i],y[i]))"
   ]
  },
  {
   "cell_type": "markdown",
   "metadata": {},
   "source": [
    "В США, Китае и Индии значения настолько велики, что остальные данные трудно рассмотреть."
   ]
  },
  {
   "cell_type": "code",
   "execution_count": null,
   "metadata": {},
   "outputs": [],
   "source": [
    "df_no_large = (df_2016['Country Name'] != 'United States') & (df_2016['Country Name'] != 'India') & (df_2016['Country Name'] != 'China')\n",
    "x = list(df_2016[df_no_large]['population'])\n",
    "y = list(df_2016[df_no_large]['gdp'])\n",
    "text = df_2016[df_no_large]['Country Name']\n",
    "\n",
    "fig, ax = plt.subplots(figsize=(15,10))\n",
    "ax.scatter(x, y)\n",
    "plt.title('GDP vs Population')\n",
    "plt.xlabel('population')\n",
    "plt.ylabel('GDP')\n",
    "for i, txt in enumerate(text):\n",
    "    ax.annotate(txt, (x[i],y[i]))"
   ]
  },
  {
   "cell_type": "markdown",
   "metadata": {},
   "source": [
    "# Load \n",
    "\n",
    "In this part, I'll load data into different formats: a csv file, a json file, and a SQLite database."
   ]
  },
  {
   "cell_type": "code",
   "execution_count": null,
   "metadata": {},
   "outputs": [],
   "source": [
    "gdp"
   ]
  },
  {
   "cell_type": "code",
   "execution_count": null,
   "metadata": {},
   "outputs": [],
   "source": [
    "gdp['Country Name']"
   ]
  },
  {
   "cell_type": "code",
   "execution_count": null,
   "metadata": {},
   "outputs": [],
   "source": [
    "population"
   ]
  },
  {
   "cell_type": "code",
   "execution_count": null,
   "metadata": {},
   "outputs": [],
   "source": [
    "df_projects"
   ]
  },
  {
   "cell_type": "code",
   "execution_count": null,
   "metadata": {},
   "outputs": [],
   "source": [
    "import pandas as pd\n",
    "import numpy as np\n",
    "import matplotlib.pyplot as plt\n",
    "%matplotlib inline \n",
    "\n",
    "# read in the projects data set and do basic wrangling \n",
    "gdp = pd.read_csv('data/clear_data/gdp_data.csv')\n",
    "gdp.drop(['Unnamed: 62', 'Indicator Name', 'Indicator Code'], inplace=True, axis=1)\n",
    "population = pd.read_csv('data/clear_data/population_data.csv')\n",
    "population.drop(['Unnamed: 62', 'Indicator Name', 'Indicator Code'], inplace=True, axis=1)\n",
    "\n",
    "\n",
    "# Reshape the data sets so that they are in long format\n",
    "gdp_melt = gdp.melt(id_vars=['Country Name', 'Country Code'], \n",
    "                    var_name='year',\n",
    "                    value_name='gdp')\n",
    "\n",
    "# Use back fill and forward fill to fill in missing gdp values\n",
    "gdp_melt['gdp'] = gdp_melt.sort_values('year').groupby(['Country Name', 'Country Code'])['gdp'].fillna(method='ffill').fillna(method='bfill')\n",
    "\n",
    "population_melt = population.melt(id_vars=['Country Name', 'Country Code'], \n",
    "                                  var_name='year', \n",
    "                                  value_name='population')\n",
    "\n",
    "# Use back fill and forward fill to fill in missing population values\n",
    "population_melt['population'] = population_melt.sort_values('year').groupby('Country Name')['population'].fillna(method='ffill').fillna(method='bfill')\n",
    "\n",
    "# merge the population and gdp data together into one data frame\n",
    "df_indicator = gdp_melt.merge(population_melt, on=('Country Name', 'Country Code', 'year'))\n",
    "\n",
    "\n",
    "# remove non countries from the data\n",
    "df_indicator  = df_indicator[~df_indicator['Country Name'].isin(non_countries)]\n",
    "df_indicator.reset_index(inplace=True, drop=True)\n",
    "\n",
    "df_indicator.columns = ['countryname', 'countrycode', 'year', 'gdp', 'population']\n",
    "\n",
    "# output the first few rows of the data frame\n",
    "df_indicator.head()"
   ]
  },
  {
   "cell_type": "code",
   "execution_count": null,
   "metadata": {},
   "outputs": [],
   "source": [
    "df_indicator"
   ]
  },
  {
   "cell_type": "markdown",
   "metadata": {},
   "source": [
    "Run this code cell to read in the countries data set. This will create a data frame called df_projects containing the World Bank projects data. The data frame only has the 'id', 'countryname', 'countrycode', 'totalamt', and 'year' columns."
   ]
  },
  {
   "cell_type": "code",
   "execution_count": null,
   "metadata": {},
   "outputs": [],
   "source": [
    "# read in the projects data set with all columns type string\n",
    "df_projects = pd.read_csv('data/preprocess_data/projects_data_Country_Date_repair.csv', dtype=str)\n",
    "\n",
    "\n",
    "df_projects['countryname'] = df_projects['countryname'].str.split(';').str.get(0)\n",
    "\n",
    "# set up the libraries and variables\n",
    "\n",
    "country_not_found = [] # stores countries not found in the pycountry library\n",
    "project_country_abbrev_dict = defaultdict(str) # set up an empty dictionary of string values\n",
    "\n",
    "# iterate through the country names in df_projects. \n",
    "# Create a dictionary mapping the country name to the alpha_3 ISO code\n",
    "for country in df_projects['countryname'].drop_duplicates().sort_values():\n",
    "    try: \n",
    "        # look up the country name in the pycountry library\n",
    "        # store the country name as the dictionary key and the ISO-3 code as the value\n",
    "        project_country_abbrev_dict[country] = countries.lookup(country).alpha_3\n",
    "    except:\n",
    "        # If the country name is not in the pycountry library, then print out the country name\n",
    "        # And store the results in the country_not_found list\n",
    "        country_not_found.append(country)\n",
    "        \n",
    "# run this code cell to load the dictionary\n",
    "\n",
    "country_not_found_mapping = {'Co-operative Republic of Guyana': 'GUY',\n",
    "             'Commonwealth of Australia':'AUS',\n",
    "             'Democratic Republic of Sao Tome and Prin':'STP',\n",
    "             'Democratic Republic of the Congo':'COD',\n",
    "             'Democratic Socialist Republic of Sri Lan':'LKA',\n",
    "             'East Asia and Pacific':'EAS',\n",
    "             'Europe and Central Asia': 'ECS',\n",
    "             'Islamic  Republic of Afghanistan':'AFG',\n",
    "             'Latin America':'LCN',\n",
    "              'Caribbean':'LCN',\n",
    "             'Macedonia':'MKD',\n",
    "             'Middle East and North Africa':'MEA',\n",
    "             'Oriental Republic of Uruguay':'URY',\n",
    "             'Republic of Congo':'COG',\n",
    "             \"Republic of Cote d'Ivoire\":'CIV',\n",
    "             'Republic of Korea':'KOR',\n",
    "             'Republic of Niger':'NER',\n",
    "             'Republic of Kosovo':'XKX',\n",
    "             'Republic of Rwanda':'RWA',\n",
    "              'Republic of The Gambia':'GMB',\n",
    "              'Republic of Togo':'TGO',\n",
    "              'Republic of the Union of Myanmar':'MMR',\n",
    "              'Republica Bolivariana de Venezuela':'VEN',\n",
    "              'Sint Maarten':'SXM',\n",
    "              \"Socialist People's Libyan Arab Jamahiriy\":'LBY',\n",
    "              'Socialist Republic of Vietnam':'VNM',\n",
    "              'Somali Democratic Republic':'SOM',\n",
    "              'South Asia':'SAS',\n",
    "              'St. Kitts and Nevis':'KNA',\n",
    "              'St. Lucia':'LCA',\n",
    "              'St. Vincent and the Grenadines':'VCT',\n",
    "              'State of Eritrea':'ERI',\n",
    "              'The Independent State of Papua New Guine':'PNG',\n",
    "              'West Bank and Gaza':'PSE',\n",
    "              'World':'WLD'}\n",
    "\n",
    "project_country_abbrev_dict.update(country_not_found_mapping)\n",
    "\n",
    "df_projects['countrycode'] = df_projects['countryname'].apply(lambda x: project_country_abbrev_dict[x])\n",
    "\n",
    "df_projects['boardapprovaldate'] = pd.to_datetime(df_projects['boardapprovaldate'])\n",
    "\n",
    "df_projects['year'] = df_projects['boardapprovaldate'].dt.year.astype(str).str.slice(stop=4)\n",
    "\n",
    "df_projects['totalamt'] = pd.to_numeric(df_projects['totalamt'].str.replace(',',\"\"))\n",
    "\n",
    "df_projects = df_projects[['id', 'countryname', 'countrycode', 'totalamt', 'year']]\n",
    "\n",
    "df_projects.head()"
   ]
  },
  {
   "cell_type": "code",
   "execution_count": null,
   "metadata": {},
   "outputs": [],
   "source": [
    "df_merged = df_projects.merge(df_indicator, how='left', on=['countrycode', 'year'])"
   ]
  },
  {
   "cell_type": "code",
   "execution_count": null,
   "metadata": {},
   "outputs": [],
   "source": [
    "df_merged[(df_merged['year'] == '2017') & (df_merged['countryname_y'] == 'Jordan')]"
   ]
  },
  {
   "cell_type": "code",
   "execution_count": null,
   "metadata": {},
   "outputs": [],
   "source": [
    "df_merged.to_csv('data/preprocess_data/result_not_end.csv', index=False)"
   ]
  },
  {
   "cell_type": "markdown",
   "metadata": {},
   "source": [
    "> ## Немного выводов\n",
    "\n",
    "1. Данные следует почистить от стран, которые не являются странами (например: `World`)\n",
    "2. Нужно обработать тип данных `DateTime`\n",
    "3. Также необходимо перевести числовые значения формата `103,101` в формат `103101`\n",
    "4. Исходя из результатов построим финальную таблицу в которой будут содержаться по годам данные разных экономических и макроэкономических параметров стран"
   ]
  },
  {
   "cell_type": "markdown",
   "metadata": {},
   "source": []
  }
 ],
 "metadata": {
  "kernelspec": {
   "display_name": "Python 3 (ipykernel)",
   "language": "python",
   "name": "python3"
  },
  "language_info": {
   "codemirror_mode": {
    "name": "ipython",
    "version": 3
   },
   "file_extension": ".py",
   "mimetype": "text/x-python",
   "name": "python",
   "nbconvert_exporter": "python",
   "pygments_lexer": "ipython3",
   "version": "3.12.3"
  }
 },
 "nbformat": 4,
 "nbformat_minor": 2
}
